{
 "cells": [
  {
   "cell_type": "markdown",
   "metadata": {
    "id": "MDTPUARrCTBx"
   },
   "source": [
    "## Leveraging a pretrained model"
   ]
  },
  {
   "cell_type": "markdown",
   "metadata": {
    "id": "pvBn9zJpCTBx"
   },
   "source": [
    "### Feature extraction with a pretrained model"
   ]
  },
  {
   "cell_type": "code",
   "execution_count": null,
   "metadata": {
    "id": "IDk-FxlGKpEG"
   },
   "outputs": [],
   "source": [
    "#from google.colab import files\n",
    "#uploaded = files.upload()"
   ]
  },
  {
   "cell_type": "code",
   "execution_count": null,
   "metadata": {
    "id": "WM3HOuCp-mZT"
   },
   "outputs": [],
   "source": [
    "!wget https://figshare.com/ndownloader/files/34178397 -O trainsmall.zip"
   ]
  },
  {
   "cell_type": "code",
   "execution_count": null,
   "metadata": {
    "id": "JA8teCLjqDaE"
   },
   "outputs": [],
   "source": [
    "!unzip -q trainsmall.zip"
   ]
  },
  {
   "cell_type": "code",
   "execution_count": 26,
   "metadata": {
    "id": "JSRrcqWAlIsP"
   },
   "outputs": [],
   "source": [
    "import os, shutil\n",
    "\n",
    "base_dir = 'E:\\Flamur\\data'\n",
    "\n",
    "train_dir = os.path.join(base_dir, 'train')\n",
    "validation_dir = os.path.join(base_dir, 'validation')\n",
    "test_dir = os.path.join(base_dir, 'test')\n",
    "\n",
    "train_brad_dir = os.path.join(train_dir, 'Brad')\n",
    "train_flamur_dir = os.path.join(train_dir, 'Flamur')\n",
    "train_barack_dir = os.path.join(train_dir, 'Barack')\n",
    "train_dominic_dir = os.path.join(train_dir, 'Dominic')\n",
    "train_jeff_dir = os.path.join(train_dir, 'Jeff')\n",
    "train_rihanna_dir = os.path.join(train_dir, 'Rihanna')\n",
    "train_jason_dir = os.path.join(train_dir, 'Jason')\n",
    "\n",
    "validation_brad_dir = os.path.join(validation_dir, 'Brad')\n",
    "validation_flamur_dir = os.path.join(validation_dir, 'Flamur')\n",
    "validation_barack_dir = os.path.join(validation_dir, 'Barack')\n",
    "validation_dominic_dir = os.path.join(validation_dir, 'Dominic')\n",
    "validation_jeff_dir = os.path.join(validation_dir, 'Jeff')\n",
    "validation_rihanna_dir = os.path.join(validation_dir, 'Rihanna')\n",
    "validation_jason_dir = os.path.join(validation_dir, 'Jason')\n",
    "\n",
    "\n",
    "test_brad_dir = os.path.join(test_dir, 'Brad')\n",
    "test_flamur_dir = os.path.join(test_dir, 'Flamur')\n",
    "test_barack_dir = os.path.join(test_dir, 'Barack')\n",
    "test_dominic_dir = os.path.join(test_dir, 'Dominic')\n",
    "test_jeff_dir = os.path.join(test_dir, 'Jeff')\n",
    "test_rihanna_dir = os.path.join(test_dir, 'Rihanna')\n",
    "test_jason_dir = os.path.join(test_dir, 'Jason')"
   ]
  },
  {
   "cell_type": "code",
   "execution_count": 27,
   "metadata": {
    "id": "zKYdxzFtl2rf"
   },
   "outputs": [
    {
     "name": "stdout",
     "output_type": "stream",
     "text": [
      "Found 261 files belonging to 7 classes.\n",
      "Found 256 files belonging to 7 classes.\n",
      "Found 257 files belonging to 7 classes.\n"
     ]
    }
   ],
   "source": [
    "from tensorflow.keras.utils import image_dataset_from_directory\n",
    "\n",
    "train_dataset = image_dataset_from_directory(\n",
    "    train_dir,\n",
    "    image_size=(180, 180),\n",
    "    batch_size=32)\n",
    "validation_dataset = image_dataset_from_directory(\n",
    "    validation_dir,\n",
    "    image_size=(180, 180),\n",
    "    batch_size=32)\n",
    "test_dataset = image_dataset_from_directory(\n",
    "    test_dir,\n",
    "    image_size=(180, 180),\n",
    "    batch_size=32)\n"
   ]
  },
  {
   "cell_type": "code",
   "execution_count": 28,
   "metadata": {},
   "outputs": [],
   "source": [
    "import os\n",
    "import cv2\n",
    "\n",
    "def remove_background(image_path):\n",
    "    image = cv2.imread(image_path)\n",
    "    gray = cv2.cvtColor(image, cv2.COLOR_BGR2GRAY)\n",
    "    _, mask = cv2.threshold(gray, 1, 255, cv2.THRESH_BINARY)\n",
    "    result = cv2.bitwise_and(image, image, mask=mask)\n",
    "    return result\n",
    "\n",
    "dataset_dir = \"data\"\n",
    "\n",
    "for root, _, files in os.walk(dataset_dir):\n",
    "    for file in files:\n",
    "        if file.endswith(\".jpg\") or file.endswith(\".png\"):\n",
    "            image_path = os.path.join(root, file)\n",
    "            result = remove_background(image_path)\n",
    "            cv2.imwrite(image_path, result)"
   ]
  },
  {
   "cell_type": "markdown",
   "metadata": {
    "id": "zO-f1A4_CTBx"
   },
   "source": [
    "**Instantiating the VGG16 convolutional base**"
   ]
  },
  {
   "cell_type": "code",
   "execution_count": 29,
   "metadata": {
    "id": "J9tpTGcckP1J"
   },
   "outputs": [],
   "source": [
    "from tensorflow import keras\n",
    "from tensorflow.keras import layers\n",
    "\n",
    "conv_base = keras.applications.vgg16.VGG16(\n",
    "    weights=\"imagenet\",\n",
    "    include_top=False,\n",
    "    input_shape=(180, 180, 3))"
   ]
  },
  {
   "cell_type": "code",
   "execution_count": 30,
   "metadata": {
    "id": "brDpNrXGLlX-"
   },
   "outputs": [
    {
     "name": "stdout",
     "output_type": "stream",
     "text": [
      "Model: \"vgg16\"\n",
      "_________________________________________________________________\n",
      "Layer (type)                 Output Shape              Param #   \n",
      "=================================================================\n",
      "input_5 (InputLayer)         [(None, 180, 180, 3)]     0         \n",
      "_________________________________________________________________\n",
      "block1_conv1 (Conv2D)        (None, 180, 180, 64)      1792      \n",
      "_________________________________________________________________\n",
      "block1_conv2 (Conv2D)        (None, 180, 180, 64)      36928     \n",
      "_________________________________________________________________\n",
      "block1_pool (MaxPooling2D)   (None, 90, 90, 64)        0         \n",
      "_________________________________________________________________\n",
      "block2_conv1 (Conv2D)        (None, 90, 90, 128)       73856     \n",
      "_________________________________________________________________\n",
      "block2_conv2 (Conv2D)        (None, 90, 90, 128)       147584    \n",
      "_________________________________________________________________\n",
      "block2_pool (MaxPooling2D)   (None, 45, 45, 128)       0         \n",
      "_________________________________________________________________\n",
      "block3_conv1 (Conv2D)        (None, 45, 45, 256)       295168    \n",
      "_________________________________________________________________\n",
      "block3_conv2 (Conv2D)        (None, 45, 45, 256)       590080    \n",
      "_________________________________________________________________\n",
      "block3_conv3 (Conv2D)        (None, 45, 45, 256)       590080    \n",
      "_________________________________________________________________\n",
      "block3_pool (MaxPooling2D)   (None, 22, 22, 256)       0         \n",
      "_________________________________________________________________\n",
      "block4_conv1 (Conv2D)        (None, 22, 22, 512)       1180160   \n",
      "_________________________________________________________________\n",
      "block4_conv2 (Conv2D)        (None, 22, 22, 512)       2359808   \n",
      "_________________________________________________________________\n",
      "block4_conv3 (Conv2D)        (None, 22, 22, 512)       2359808   \n",
      "_________________________________________________________________\n",
      "block4_pool (MaxPooling2D)   (None, 11, 11, 512)       0         \n",
      "_________________________________________________________________\n",
      "block5_conv1 (Conv2D)        (None, 11, 11, 512)       2359808   \n",
      "_________________________________________________________________\n",
      "block5_conv2 (Conv2D)        (None, 11, 11, 512)       2359808   \n",
      "_________________________________________________________________\n",
      "block5_conv3 (Conv2D)        (None, 11, 11, 512)       2359808   \n",
      "_________________________________________________________________\n",
      "block5_pool (MaxPooling2D)   (None, 5, 5, 512)         0         \n",
      "=================================================================\n",
      "Total params: 14,714,688\n",
      "Trainable params: 14,714,688\n",
      "Non-trainable params: 0\n",
      "_________________________________________________________________\n"
     ]
    }
   ],
   "source": [
    "conv_base.summary()"
   ]
  },
  {
   "cell_type": "markdown",
   "metadata": {
    "id": "YAk9604NCTBx"
   },
   "source": [
    "#### Fast feature extraction without data augmentation"
   ]
  },
  {
   "cell_type": "markdown",
   "metadata": {
    "id": "Yyery08fCTBx"
   },
   "source": [
    "**Extracting the VGG16 features and corresponding labels**"
   ]
  },
  {
   "cell_type": "code",
   "execution_count": 31,
   "metadata": {
    "id": "nYuR5UtzCTBx"
   },
   "outputs": [],
   "source": [
    "import numpy as np\n",
    "\n",
    "def get_features_and_labels(dataset):\n",
    "    all_features = []\n",
    "    all_labels = []\n",
    "    for images, labels in dataset:\n",
    "        preprocessed_images = keras.applications.vgg16.preprocess_input(images)\n",
    "        features = conv_base.predict(preprocessed_images)\n",
    "        all_features.append(features)\n",
    "        all_labels.append(labels)\n",
    "    return np.concatenate(all_features), np.concatenate(all_labels)\n",
    "\n",
    "train_features, train_labels =  get_features_and_labels(train_dataset)\n",
    "val_features, val_labels =  get_features_and_labels(validation_dataset)\n",
    "test_features, test_labels =  get_features_and_labels(test_dataset)"
   ]
  },
  {
   "cell_type": "code",
   "execution_count": 32,
   "metadata": {
    "id": "YaHTH-uNCTBx"
   },
   "outputs": [
    {
     "data": {
      "text/plain": [
       "(261, 5, 5, 512)"
      ]
     },
     "execution_count": 32,
     "metadata": {},
     "output_type": "execute_result"
    }
   ],
   "source": [
    "train_features.shape"
   ]
  },
  {
   "cell_type": "markdown",
   "metadata": {
    "id": "FLCxZeX5CTBy"
   },
   "source": [
    "Defining and training the densely connected classifier"
   ]
  },
  {
   "cell_type": "code",
   "execution_count": 33,
   "metadata": {
    "id": "KNuyhXo0CTBy"
   },
   "outputs": [
    {
     "name": "stdout",
     "output_type": "stream",
     "text": [
      "Epoch 1/20\n",
      "9/9 [==============================] - 0s 16ms/step - loss: 29.4131 - accuracy: 0.4138 - val_loss: 7.5922 - val_accuracy: 0.7656\n",
      "Epoch 2/20\n",
      "9/9 [==============================] - 0s 6ms/step - loss: 6.0706 - accuracy: 0.8812 - val_loss: 11.2535 - val_accuracy: 0.7734\n",
      "Epoch 3/20\n",
      "9/9 [==============================] - 0s 7ms/step - loss: 1.2515 - accuracy: 0.9464 - val_loss: 12.2078 - val_accuracy: 0.7812\n",
      "Epoch 4/20\n",
      "9/9 [==============================] - 0s 5ms/step - loss: 0.6348 - accuracy: 0.9732 - val_loss: 8.0944 - val_accuracy: 0.8398\n",
      "Epoch 5/20\n",
      "9/9 [==============================] - 0s 5ms/step - loss: 0.2241 - accuracy: 0.9847 - val_loss: 5.7811 - val_accuracy: 0.8594\n",
      "Epoch 6/20\n",
      "9/9 [==============================] - 0s 6ms/step - loss: 0.8302 - accuracy: 0.9732 - val_loss: 5.8554 - val_accuracy: 0.8594\n",
      "Epoch 7/20\n",
      "9/9 [==============================] - 0s 5ms/step - loss: 0.0089 - accuracy: 0.9962 - val_loss: 7.0021 - val_accuracy: 0.8594\n",
      "Epoch 8/20\n",
      "9/9 [==============================] - 0s 5ms/step - loss: 0.0459 - accuracy: 0.9962 - val_loss: 7.7521 - val_accuracy: 0.8516\n",
      "Epoch 9/20\n",
      "9/9 [==============================] - 0s 5ms/step - loss: 0.1623 - accuracy: 0.9885 - val_loss: 6.9346 - val_accuracy: 0.8594\n",
      "Epoch 10/20\n",
      "9/9 [==============================] - 0s 5ms/step - loss: 0.2293 - accuracy: 0.9885 - val_loss: 7.4660 - val_accuracy: 0.8281\n",
      "Epoch 11/20\n",
      "9/9 [==============================] - 0s 6ms/step - loss: 0.1084 - accuracy: 0.9885 - val_loss: 6.9020 - val_accuracy: 0.8594\n",
      "Epoch 12/20\n",
      "9/9 [==============================] - 0s 5ms/step - loss: 0.1433 - accuracy: 0.9962 - val_loss: 7.1432 - val_accuracy: 0.8672\n",
      "Epoch 13/20\n",
      "9/9 [==============================] - 0s 5ms/step - loss: 0.1528 - accuracy: 0.9923 - val_loss: 5.8186 - val_accuracy: 0.8750\n",
      "Epoch 14/20\n",
      "9/9 [==============================] - 0s 5ms/step - loss: 0.1869 - accuracy: 0.9962 - val_loss: 6.0914 - val_accuracy: 0.8867\n",
      "Epoch 15/20\n",
      "9/9 [==============================] - 0s 6ms/step - loss: 0.2510 - accuracy: 0.9923 - val_loss: 7.0573 - val_accuracy: 0.8633\n",
      "Epoch 16/20\n",
      "9/9 [==============================] - 0s 5ms/step - loss: 2.4905e-05 - accuracy: 1.0000 - val_loss: 7.7919 - val_accuracy: 0.8398\n",
      "Epoch 17/20\n",
      "9/9 [==============================] - 0s 7ms/step - loss: 0.3416 - accuracy: 0.9923 - val_loss: 6.4011 - val_accuracy: 0.8633\n",
      "Epoch 18/20\n",
      "9/9 [==============================] - 0s 5ms/step - loss: 6.4462e-04 - accuracy: 1.0000 - val_loss: 5.4660 - val_accuracy: 0.8750\n",
      "Epoch 19/20\n",
      "9/9 [==============================] - 0s 6ms/step - loss: 2.8591e-07 - accuracy: 1.0000 - val_loss: 6.0652 - val_accuracy: 0.8516\n",
      "Epoch 20/20\n",
      "9/9 [==============================] - 0s 5ms/step - loss: 0.1065 - accuracy: 0.9885 - val_loss: 5.3459 - val_accuracy: 0.8750\n"
     ]
    }
   ],
   "source": [
    "import tensorflow as tf\n",
    "from tensorflow import keras\n",
    "from tensorflow.keras import layers\n",
    "\n",
    "inputs = keras.Input(shape=(5, 5, 512))\n",
    "x = layers.Flatten()(inputs)\n",
    "x = layers.Dense(256)(x)\n",
    "x = layers.Dropout(0.5)(x)\n",
    "#outputs = layers.Dense(1, activation=\"sigmoid\")(x)\n",
    "outputs = layers.Dense(7, activation=\"softmax\")(x)\n",
    "model = keras.Model(inputs, outputs)\n",
    "model.compile(\n",
    "              loss=tf.keras.losses.SparseCategoricalCrossentropy(),\n",
    "              optimizer='adam',\n",
    "              metrics=[\"accuracy\"])\n",
    "\n",
    "callbacks = [\n",
    "    keras.callbacks.ModelCheckpoint(\n",
    "      filepath=\"feature_extraction.keras\",\n",
    "      save_best_only=True,\n",
    "      monitor=\"val_loss\")\n",
    "]\n",
    "history = model.fit(\n",
    "    train_features, train_labels,\n",
    "    epochs=20,\n",
    "    validation_data=(val_features, val_labels),\n",
    "    callbacks=callbacks)"
   ]
  },
  {
   "cell_type": "code",
   "execution_count": 34,
   "metadata": {
    "id": "ETvZoUxkCTBy"
   },
   "outputs": [
    {
     "data": {
      "image/png": "[encoded data removed]",
      "text/plain": [
       "<Figure size 640x480 with 1 Axes>"
      ]
     },
     "metadata": {},
     "output_type": "display_data"
    },
    {
     "data": {
      "image/png": "[encoded data removed]",
      "text/plain": [
       "<Figure size 640x480 with 1 Axes>"
      ]
     },
     "metadata": {},
     "output_type": "display_data"
    }
   ],
   "source": [
    "import matplotlib.pyplot as plt\n",
    "acc = history.history[\"accuracy\"]\n",
    "val_acc = history.history[\"val_accuracy\"]\n",
    "loss = history.history[\"loss\"]\n",
    "val_loss = history.history[\"val_loss\"]\n",
    "epochs = range(1, len(acc) + 1)\n",
    "plt.plot(epochs, acc, \"bo\", label=\"Training accuracy\")\n",
    "plt.plot(epochs, val_acc, \"b\", label=\"Validation accuracy\")\n",
    "plt.title(\"Training and validation accuracy\")\n",
    "plt.legend()\n",
    "plt.figure()\n",
    "plt.plot(epochs, loss, \"bo\", label=\"Training loss\")\n",
    "plt.plot(epochs, val_loss, \"b\", label=\"Validation loss\")\n",
    "plt.title(\"Training and validation loss\")\n",
    "plt.legend()\n",
    "plt.show()"
   ]
  },
  {
   "cell_type": "markdown",
   "metadata": {
    "id": "FFzckPvSCTBy"
   },
   "source": [
    "#### Feature extraction together with data augmentation"
   ]
  },
  {
   "cell_type": "markdown",
   "metadata": {
    "id": "tXUQneQyCTBy"
   },
   "source": [
    "**Instantiating and freezing the VGG16 convolutional base**"
   ]
  },
  {
   "cell_type": "code",
   "execution_count": 35,
   "metadata": {
    "id": "EcMrsOvhCTBy"
   },
   "outputs": [],
   "source": [
    "conv_base  = keras.applications.vgg16.VGG16(\n",
    "    weights=\"imagenet\",\n",
    "    include_top=False)\n",
    "conv_base.trainable = False   # try different pre-trained models"
   ]
  },
  {
   "cell_type": "markdown",
   "metadata": {
    "id": "xZ-9i8imCTBy"
   },
   "source": [
    "**Printing the list of trainable weights before and after freezing**"
   ]
  },
  {
   "cell_type": "code",
   "execution_count": 36,
   "metadata": {
    "id": "9fC1_-c2CTBy"
   },
   "outputs": [
    {
     "name": "stdout",
     "output_type": "stream",
     "text": [
      "This is the number of trainable weights before freezing the conv base: 26\n"
     ]
    }
   ],
   "source": [
    "conv_base.trainable = True\n",
    "print(\"This is the number of trainable weights \"\n",
    "      \"before freezing the conv base:\", len(conv_base.trainable_weights))"
   ]
  },
  {
   "cell_type": "code",
   "execution_count": 37,
   "metadata": {
    "id": "wX1l5-jtCTBz"
   },
   "outputs": [
    {
     "name": "stdout",
     "output_type": "stream",
     "text": [
      "This is the number of trainable weights after freezing the conv base: 0\n"
     ]
    }
   ],
   "source": [
    "conv_base.trainable = False\n",
    "print(\"This is the number of trainable weights \"\n",
    "      \"after freezing the conv base:\", len(conv_base.trainable_weights))"
   ]
  },
  {
   "cell_type": "markdown",
   "metadata": {
    "id": "DmewHj0xCTBz"
   },
   "source": [
    "**Adding a data augmentation stage and a classifier to the convolutional base**"
   ]
  },
  {
   "cell_type": "code",
   "execution_count": 38,
   "metadata": {
    "id": "lp8kri_RCTBz"
   },
   "outputs": [],
   "source": [
    "data_augmentation = keras.Sequential(\n",
    "    [\n",
    "        layers.RandomFlip(\"horizontal\"),\n",
    "        layers.RandomRotation(0.1),\n",
    "        layers.RandomZoom(0.2),\n",
    "    ]\n",
    ")\n",
    "\n",
    "inputs = keras.Input(shape=(180, 180, 3))\n",
    "x = data_augmentation(inputs)\n",
    "x = keras.applications.vgg16.preprocess_input(x)\n",
    "x = conv_base(x)\n",
    "x = layers.Flatten()(x)\n",
    "x = layers.Dense(256)(x)\n",
    "x = layers.Dropout(0.5)(x)\n",
    "\n",
    "outputs = layers.Dense(7, activation=\"softmax\")(x)\n",
    "model = keras.Model(inputs, outputs)\n",
    "model.compile(\n",
    "              loss=tf.keras.losses.SparseCategoricalCrossentropy(),\n",
    "              optimizer='adam',\n",
    "              metrics=[\"accuracy\"])"
   ]
  },
  {
   "cell_type": "code",
   "execution_count": 39,
   "metadata": {
    "id": "0eErecbevq5S"
   },
   "outputs": [
    {
     "name": "stdout",
     "output_type": "stream",
     "text": [
      "Model: \"model_3\"\n",
      "_________________________________________________________________\n",
      "Layer (type)                 Output Shape              Param #   \n",
      "=================================================================\n",
      "input_8 (InputLayer)         [(None, 180, 180, 3)]     0         \n",
      "_________________________________________________________________\n",
      "sequential_1 (Sequential)    (None, 180, 180, 3)       0         \n",
      "_________________________________________________________________\n",
      "tf.__operators__.getitem_1 ( (None, 180, 180, 3)       0         \n",
      "_________________________________________________________________\n",
      "tf.nn.bias_add_1 (TFOpLambda (None, 180, 180, 3)       0         \n",
      "_________________________________________________________________\n",
      "vgg16 (Functional)           (None, None, None, 512)   14714688  \n",
      "_________________________________________________________________\n",
      "flatten_3 (Flatten)          (None, 12800)             0         \n",
      "_________________________________________________________________\n",
      "dense_6 (Dense)              (None, 256)               3277056   \n",
      "_________________________________________________________________\n",
      "dropout_3 (Dropout)          (None, 256)               0         \n",
      "_________________________________________________________________\n",
      "dense_7 (Dense)              (None, 7)                 1799      \n",
      "=================================================================\n",
      "Total params: 17,993,543\n",
      "Trainable params: 3,278,855\n",
      "Non-trainable params: 14,714,688\n",
      "_________________________________________________________________\n"
     ]
    }
   ],
   "source": [
    "model.summary()"
   ]
  },
  {
   "cell_type": "code",
   "execution_count": 40,
   "metadata": {
    "id": "5g9uMRBkCTBz"
   },
   "outputs": [
    {
     "name": "stdout",
     "output_type": "stream",
     "text": [
      "Epoch 1/50\n",
      "9/9 [==============================] - 2s 99ms/step - loss: 25.4064 - accuracy: 0.4023 - val_loss: 13.6203 - val_accuracy: 0.6367\n",
      "Epoch 2/50\n",
      "9/9 [==============================] - 1s 70ms/step - loss: 14.2588 - accuracy: 0.6858 - val_loss: 11.9795 - val_accuracy: 0.7305\n",
      "Epoch 3/50\n",
      "9/9 [==============================] - 1s 72ms/step - loss: 7.8328 - accuracy: 0.7854 - val_loss: 11.4222 - val_accuracy: 0.7578\n",
      "Epoch 4/50\n",
      "9/9 [==============================] - 1s 70ms/step - loss: 6.2189 - accuracy: 0.8352 - val_loss: 9.7331 - val_accuracy: 0.8008\n",
      "Epoch 5/50\n",
      "9/9 [==============================] - 1s 70ms/step - loss: 7.5232 - accuracy: 0.8659 - val_loss: 8.9872 - val_accuracy: 0.8164\n",
      "Epoch 6/50\n",
      "9/9 [==============================] - 1s 69ms/step - loss: 4.1493 - accuracy: 0.9080 - val_loss: 10.1835 - val_accuracy: 0.7969\n",
      "Epoch 7/50\n",
      "9/9 [==============================] - 1s 72ms/step - loss: 3.0778 - accuracy: 0.9080 - val_loss: 12.0800 - val_accuracy: 0.7812\n",
      "Epoch 8/50\n",
      "9/9 [==============================] - 1s 70ms/step - loss: 3.3637 - accuracy: 0.9157 - val_loss: 8.3982 - val_accuracy: 0.8242\n",
      "Epoch 9/50\n",
      "9/9 [==============================] - 1s 71ms/step - loss: 4.1623 - accuracy: 0.9119 - val_loss: 8.1545 - val_accuracy: 0.8242\n",
      "Epoch 10/50\n",
      "9/9 [==============================] - 1s 72ms/step - loss: 2.2467 - accuracy: 0.9425 - val_loss: 8.7751 - val_accuracy: 0.8320\n",
      "Epoch 11/50\n",
      "9/9 [==============================] - 1s 71ms/step - loss: 2.2546 - accuracy: 0.9425 - val_loss: 12.7071 - val_accuracy: 0.7969\n",
      "Epoch 12/50\n",
      "9/9 [==============================] - 1s 72ms/step - loss: 3.0754 - accuracy: 0.9157 - val_loss: 9.1809 - val_accuracy: 0.8438\n",
      "Epoch 13/50\n",
      "9/9 [==============================] - 1s 75ms/step - loss: 1.3884 - accuracy: 0.9464 - val_loss: 8.3928 - val_accuracy: 0.8438\n",
      "Epoch 14/50\n",
      "9/9 [==============================] - 1s 71ms/step - loss: 1.6971 - accuracy: 0.9540 - val_loss: 8.7309 - val_accuracy: 0.8555\n",
      "Epoch 15/50\n",
      "9/9 [==============================] - 1s 72ms/step - loss: 0.9223 - accuracy: 0.9579 - val_loss: 9.8171 - val_accuracy: 0.8516\n",
      "Epoch 16/50\n",
      "9/9 [==============================] - 1s 74ms/step - loss: 1.6661 - accuracy: 0.9579 - val_loss: 9.7336 - val_accuracy: 0.8438\n",
      "Epoch 17/50\n",
      "9/9 [==============================] - 1s 71ms/step - loss: 0.8710 - accuracy: 0.9732 - val_loss: 12.5123 - val_accuracy: 0.8242\n",
      "Epoch 18/50\n",
      "9/9 [==============================] - 1s 72ms/step - loss: 1.1460 - accuracy: 0.9617 - val_loss: 12.5187 - val_accuracy: 0.8398\n",
      "Epoch 19/50\n",
      "9/9 [==============================] - 1s 71ms/step - loss: 2.3722 - accuracy: 0.9464 - val_loss: 15.6755 - val_accuracy: 0.8164\n",
      "Epoch 20/50\n",
      "9/9 [==============================] - 1s 70ms/step - loss: 1.0825 - accuracy: 0.9464 - val_loss: 12.5426 - val_accuracy: 0.8398\n",
      "Epoch 21/50\n",
      "9/9 [==============================] - 1s 71ms/step - loss: 2.2461 - accuracy: 0.9310 - val_loss: 13.0182 - val_accuracy: 0.8164\n",
      "Epoch 22/50\n",
      "9/9 [==============================] - 1s 72ms/step - loss: 1.6933 - accuracy: 0.9617 - val_loss: 12.7564 - val_accuracy: 0.8281\n",
      "Epoch 23/50\n",
      "9/9 [==============================] - 1s 71ms/step - loss: 0.4624 - accuracy: 0.9732 - val_loss: 10.5677 - val_accuracy: 0.8203\n",
      "Epoch 24/50\n",
      "9/9 [==============================] - 1s 70ms/step - loss: 2.2402 - accuracy: 0.9272 - val_loss: 8.2313 - val_accuracy: 0.8633\n",
      "Epoch 25/50\n",
      "9/9 [==============================] - 1s 72ms/step - loss: 1.2240 - accuracy: 0.9617 - val_loss: 8.2280 - val_accuracy: 0.8672\n",
      "Epoch 26/50\n",
      "9/9 [==============================] - 1s 72ms/step - loss: 2.4412 - accuracy: 0.9502 - val_loss: 8.9531 - val_accuracy: 0.8672\n",
      "Epoch 27/50\n",
      "9/9 [==============================] - 1s 71ms/step - loss: 1.3172 - accuracy: 0.9655 - val_loss: 9.8168 - val_accuracy: 0.8555\n",
      "Epoch 28/50\n",
      "9/9 [==============================] - 1s 71ms/step - loss: 2.6791 - accuracy: 0.9540 - val_loss: 10.7082 - val_accuracy: 0.8359\n",
      "Epoch 29/50\n",
      "9/9 [==============================] - 1s 72ms/step - loss: 1.6239 - accuracy: 0.9579 - val_loss: 9.2687 - val_accuracy: 0.8789\n",
      "Epoch 30/50\n",
      "9/9 [==============================] - 1s 69ms/step - loss: 1.7570 - accuracy: 0.9502 - val_loss: 11.3478 - val_accuracy: 0.8672\n",
      "Epoch 31/50\n",
      "9/9 [==============================] - 1s 71ms/step - loss: 2.2027 - accuracy: 0.9502 - val_loss: 11.9813 - val_accuracy: 0.8516\n",
      "Epoch 32/50\n",
      "9/9 [==============================] - 1s 71ms/step - loss: 2.2716 - accuracy: 0.9617 - val_loss: 9.0619 - val_accuracy: 0.8477\n",
      "Epoch 33/50\n",
      "9/9 [==============================] - 1s 71ms/step - loss: 1.0734 - accuracy: 0.9693 - val_loss: 7.2274 - val_accuracy: 0.8906\n",
      "Epoch 34/50\n",
      "9/9 [==============================] - 1s 72ms/step - loss: 1.3102 - accuracy: 0.9579 - val_loss: 8.2970 - val_accuracy: 0.9023\n",
      "Epoch 35/50\n",
      "9/9 [==============================] - 1s 72ms/step - loss: 2.0420 - accuracy: 0.9770 - val_loss: 10.7537 - val_accuracy: 0.8555\n",
      "Epoch 36/50\n",
      "9/9 [==============================] - 1s 69ms/step - loss: 0.9023 - accuracy: 0.9847 - val_loss: 10.0077 - val_accuracy: 0.8555\n",
      "Epoch 37/50\n",
      "9/9 [==============================] - 1s 70ms/step - loss: 2.1447 - accuracy: 0.9617 - val_loss: 6.9538 - val_accuracy: 0.8867\n",
      "Epoch 38/50\n",
      "9/9 [==============================] - 1s 69ms/step - loss: 0.3877 - accuracy: 0.9885 - val_loss: 10.8863 - val_accuracy: 0.8125\n",
      "Epoch 39/50\n",
      "9/9 [==============================] - 1s 74ms/step - loss: 0.7042 - accuracy: 0.9693 - val_loss: 10.1076 - val_accuracy: 0.8516\n",
      "Epoch 40/50\n",
      "9/9 [==============================] - 1s 72ms/step - loss: 1.3708 - accuracy: 0.9732 - val_loss: 13.0558 - val_accuracy: 0.8281\n",
      "Epoch 41/50\n",
      "9/9 [==============================] - 1s 69ms/step - loss: 0.9514 - accuracy: 0.9732 - val_loss: 10.2494 - val_accuracy: 0.8789\n",
      "Epoch 42/50\n",
      "9/9 [==============================] - 1s 72ms/step - loss: 1.5453 - accuracy: 0.9693 - val_loss: 6.3698 - val_accuracy: 0.8945\n",
      "Epoch 43/50\n",
      "9/9 [==============================] - 1s 71ms/step - loss: 1.9942 - accuracy: 0.9693 - val_loss: 8.8421 - val_accuracy: 0.8672\n",
      "Epoch 44/50\n",
      "9/9 [==============================] - 1s 71ms/step - loss: 1.4287 - accuracy: 0.9693 - val_loss: 11.1417 - val_accuracy: 0.8750\n",
      "Epoch 45/50\n",
      "9/9 [==============================] - 1s 75ms/step - loss: 0.6529 - accuracy: 0.9732 - val_loss: 10.6427 - val_accuracy: 0.8906\n",
      "Epoch 46/50\n",
      "9/9 [==============================] - 1s 74ms/step - loss: 0.7430 - accuracy: 0.9808 - val_loss: 10.4145 - val_accuracy: 0.8711\n",
      "Epoch 47/50\n",
      "9/9 [==============================] - 1s 69ms/step - loss: 0.6479 - accuracy: 0.9847 - val_loss: 10.6222 - val_accuracy: 0.8867\n",
      "Epoch 48/50\n",
      "9/9 [==============================] - 1s 71ms/step - loss: 0.7627 - accuracy: 0.9732 - val_loss: 10.1440 - val_accuracy: 0.9062\n",
      "Epoch 49/50\n",
      "9/9 [==============================] - 1s 69ms/step - loss: 0.3799 - accuracy: 0.9885 - val_loss: 9.8565 - val_accuracy: 0.8867\n",
      "Epoch 50/50\n",
      "9/9 [==============================] - 1s 74ms/step - loss: 2.1303 - accuracy: 0.9617 - val_loss: 11.4656 - val_accuracy: 0.8633\n"
     ]
    }
   ],
   "source": [
    "callbacks = [\n",
    "    keras.callbacks.ModelCheckpoint(\n",
    "        filepath=\"feature_extraction_with_data_augmentation.keras\",\n",
    "        save_best_only=True,\n",
    "        monitor=\"val_loss\")\n",
    "]\n",
    "history = model.fit(\n",
    "    train_dataset,\n",
    "    epochs=50,\n",
    "    validation_data=validation_dataset,\n",
    "    callbacks=callbacks)"
   ]
  },
  {
   "cell_type": "code",
   "execution_count": 41,
   "metadata": {
    "id": "MqiZL9PVfET0"
   },
   "outputs": [
    {
     "data": {
      "image/png": "[encoded data removed]",
      "text/plain": [
       "<Figure size 640x480 with 1 Axes>"
      ]
     },
     "metadata": {},
     "output_type": "display_data"
    },
    {
     "data": {
      "image/png": "[encoded data removed]",
      "text/plain": [
       "<Figure size 640x480 with 1 Axes>"
      ]
     },
     "metadata": {},
     "output_type": "display_data"
    }
   ],
   "source": [
    "import matplotlib.pyplot as plt\n",
    "acc = history.history[\"accuracy\"]\n",
    "val_acc = history.history[\"val_accuracy\"]\n",
    "loss = history.history[\"loss\"]\n",
    "val_loss = history.history[\"val_loss\"]\n",
    "epochs = range(1, len(acc) + 1)\n",
    "plt.plot(epochs, acc, \"bo\", label=\"Training accuracy\")\n",
    "plt.plot(epochs, val_acc, \"b\", label=\"Validation accuracy\")\n",
    "plt.title(\"Training and validation accuracy\")\n",
    "plt.legend()\n",
    "plt.figure()\n",
    "plt.plot(epochs, loss, \"bo\", label=\"Training loss\")\n",
    "plt.plot(epochs, val_loss, \"b\", label=\"Validation loss\")\n",
    "plt.title(\"Training and validation loss\")\n",
    "plt.legend()\n",
    "plt.show()"
   ]
  },
  {
   "cell_type": "markdown",
   "metadata": {
    "id": "LEYNky0FCTBz"
   },
   "source": [
    "**Evaluating the model on the test set**"
   ]
  },
  {
   "cell_type": "code",
   "execution_count": 42,
   "metadata": {
    "id": "m0riefqrCTBz"
   },
   "outputs": [
    {
     "name": "stdout",
     "output_type": "stream",
     "text": [
      "9/9 [==============================] - 1s 18ms/step - loss: 11.9860 - accuracy: 0.8366\n",
      "Test accuracy: 0.837\n"
     ]
    }
   ],
   "source": [
    "test_model = keras.models.load_model(\n",
    "    \"feature_extraction_with_data_augmentation.keras\")\n",
    "test_loss, test_acc = test_model.evaluate(test_dataset)\n",
    "print(f\"Test accuracy: {test_acc:.3f}\")"
   ]
  },
  {
   "cell_type": "markdown",
   "metadata": {
    "id": "veEpHKpgCTBz"
   },
   "source": [
    "### Fine-tuning a pretrained model"
   ]
  },
  {
   "cell_type": "code",
   "execution_count": 43,
   "metadata": {
    "id": "oRyfKeQfCTBz"
   },
   "outputs": [
    {
     "name": "stdout",
     "output_type": "stream",
     "text": [
      "Model: \"vgg16\"\n",
      "_________________________________________________________________\n",
      "Layer (type)                 Output Shape              Param #   \n",
      "=================================================================\n",
      "input_7 (InputLayer)         [(None, None, None, 3)]   0         \n",
      "_________________________________________________________________\n",
      "block1_conv1 (Conv2D)        (None, None, None, 64)    1792      \n",
      "_________________________________________________________________\n",
      "block1_conv2 (Conv2D)        (None, None, None, 64)    36928     \n",
      "_________________________________________________________________\n",
      "block1_pool (MaxPooling2D)   (None, None, None, 64)    0         \n",
      "_________________________________________________________________\n",
      "block2_conv1 (Conv2D)        (None, None, None, 128)   73856     \n",
      "_________________________________________________________________\n",
      "block2_conv2 (Conv2D)        (None, None, None, 128)   147584    \n",
      "_________________________________________________________________\n",
      "block2_pool (MaxPooling2D)   (None, None, None, 128)   0         \n",
      "_________________________________________________________________\n",
      "block3_conv1 (Conv2D)        (None, None, None, 256)   295168    \n",
      "_________________________________________________________________\n",
      "block3_conv2 (Conv2D)        (None, None, None, 256)   590080    \n",
      "_________________________________________________________________\n",
      "block3_conv3 (Conv2D)        (None, None, None, 256)   590080    \n",
      "_________________________________________________________________\n",
      "block3_pool (MaxPooling2D)   (None, None, None, 256)   0         \n",
      "_________________________________________________________________\n",
      "block4_conv1 (Conv2D)        (None, None, None, 512)   1180160   \n",
      "_________________________________________________________________\n",
      "block4_conv2 (Conv2D)        (None, None, None, 512)   2359808   \n",
      "_________________________________________________________________\n",
      "block4_conv3 (Conv2D)        (None, None, None, 512)   2359808   \n",
      "_________________________________________________________________\n",
      "block4_pool (MaxPooling2D)   (None, None, None, 512)   0         \n",
      "_________________________________________________________________\n",
      "block5_conv1 (Conv2D)        (None, None, None, 512)   2359808   \n",
      "_________________________________________________________________\n",
      "block5_conv2 (Conv2D)        (None, None, None, 512)   2359808   \n",
      "_________________________________________________________________\n",
      "block5_conv3 (Conv2D)        (None, None, None, 512)   2359808   \n",
      "_________________________________________________________________\n",
      "block5_pool (MaxPooling2D)   (None, None, None, 512)   0         \n",
      "=================================================================\n",
      "Total params: 14,714,688\n",
      "Trainable params: 0\n",
      "Non-trainable params: 14,714,688\n",
      "_________________________________________________________________\n"
     ]
    }
   ],
   "source": [
    "conv_base.summary()"
   ]
  },
  {
   "cell_type": "markdown",
   "metadata": {
    "id": "4D4xVjoSCTBz"
   },
   "source": [
    "**Freezing all layers until the fourth from the last**"
   ]
  },
  {
   "cell_type": "code",
   "execution_count": 44,
   "metadata": {
    "id": "VMwybqO7CTBz"
   },
   "outputs": [],
   "source": [
    "conv_base.trainable = True\n",
    "for layer in conv_base.layers[:-4]:\n",
    "    layer.trainable = False"
   ]
  },
  {
   "cell_type": "code",
   "execution_count": 45,
   "metadata": {
    "id": "UyKhp01GxKsm"
   },
   "outputs": [
    {
     "name": "stdout",
     "output_type": "stream",
     "text": [
      "Model: \"vgg16\"\n",
      "_________________________________________________________________\n",
      "Layer (type)                 Output Shape              Param #   \n",
      "=================================================================\n",
      "input_7 (InputLayer)         [(None, None, None, 3)]   0         \n",
      "_________________________________________________________________\n",
      "block1_conv1 (Conv2D)        (None, None, None, 64)    1792      \n",
      "_________________________________________________________________\n",
      "block1_conv2 (Conv2D)        (None, None, None, 64)    36928     \n",
      "_________________________________________________________________\n",
      "block1_pool (MaxPooling2D)   (None, None, None, 64)    0         \n",
      "_________________________________________________________________\n",
      "block2_conv1 (Conv2D)        (None, None, None, 128)   73856     \n",
      "_________________________________________________________________\n",
      "block2_conv2 (Conv2D)        (None, None, None, 128)   147584    \n",
      "_________________________________________________________________\n",
      "block2_pool (MaxPooling2D)   (None, None, None, 128)   0         \n",
      "_________________________________________________________________\n",
      "block3_conv1 (Conv2D)        (None, None, None, 256)   295168    \n",
      "_________________________________________________________________\n",
      "block3_conv2 (Conv2D)        (None, None, None, 256)   590080    \n",
      "_________________________________________________________________\n",
      "block3_conv3 (Conv2D)        (None, None, None, 256)   590080    \n",
      "_________________________________________________________________\n",
      "block3_pool (MaxPooling2D)   (None, None, None, 256)   0         \n",
      "_________________________________________________________________\n",
      "block4_conv1 (Conv2D)        (None, None, None, 512)   1180160   \n",
      "_________________________________________________________________\n",
      "block4_conv2 (Conv2D)        (None, None, None, 512)   2359808   \n",
      "_________________________________________________________________\n",
      "block4_conv3 (Conv2D)        (None, None, None, 512)   2359808   \n",
      "_________________________________________________________________\n",
      "block4_pool (MaxPooling2D)   (None, None, None, 512)   0         \n",
      "_________________________________________________________________\n",
      "block5_conv1 (Conv2D)        (None, None, None, 512)   2359808   \n",
      "_________________________________________________________________\n",
      "block5_conv2 (Conv2D)        (None, None, None, 512)   2359808   \n",
      "_________________________________________________________________\n",
      "block5_conv3 (Conv2D)        (None, None, None, 512)   2359808   \n",
      "_________________________________________________________________\n",
      "block5_pool (MaxPooling2D)   (None, None, None, 512)   0         \n",
      "=================================================================\n",
      "Total params: 14,714,688\n",
      "Trainable params: 7,079,424\n",
      "Non-trainable params: 7,635,264\n",
      "_________________________________________________________________\n"
     ]
    }
   ],
   "source": [
    "conv_base.summary()"
   ]
  },
  {
   "cell_type": "markdown",
   "metadata": {
    "id": "vF2nFsNHCTB0"
   },
   "source": [
    "**Fine-tuning the model**"
   ]
  },
  {
   "cell_type": "code",
   "execution_count": 46,
   "metadata": {
    "id": "R-4kWKtICTB0"
   },
   "outputs": [
    {
     "name": "stdout",
     "output_type": "stream",
     "text": [
      "Epoch 1/30\n",
      "9/9 [==============================] - 3s 93ms/step - loss: 0.2302 - accuracy: 0.9885 - val_loss: 8.5361 - val_accuracy: 0.9102\n",
      "Epoch 2/30\n",
      "9/9 [==============================] - 1s 78ms/step - loss: 0.2788 - accuracy: 0.9923 - val_loss: 10.8900 - val_accuracy: 0.9062\n",
      "Epoch 3/30\n",
      "9/9 [==============================] - 1s 74ms/step - loss: 0.2288 - accuracy: 0.9808 - val_loss: 10.5039 - val_accuracy: 0.9180\n",
      "Epoch 4/30\n",
      "9/9 [==============================] - 1s 72ms/step - loss: 1.1876 - accuracy: 0.9770 - val_loss: 9.1409 - val_accuracy: 0.8984\n",
      "Epoch 5/30\n",
      "9/9 [==============================] - 1s 73ms/step - loss: 0.1000 - accuracy: 0.9923 - val_loss: 9.0046 - val_accuracy: 0.8984\n",
      "Epoch 6/30\n",
      "9/9 [==============================] - 1s 75ms/step - loss: 0.5260 - accuracy: 0.9808 - val_loss: 8.5246 - val_accuracy: 0.9180\n",
      "Epoch 7/30\n",
      "9/9 [==============================] - 1s 79ms/step - loss: 5.8143e-04 - accuracy: 1.0000 - val_loss: 8.5895 - val_accuracy: 0.9180\n",
      "Epoch 8/30\n",
      "9/9 [==============================] - 1s 73ms/step - loss: 1.5398 - accuracy: 0.9847 - val_loss: 8.6622 - val_accuracy: 0.8867\n",
      "Epoch 9/30\n",
      "9/9 [==============================] - 1s 75ms/step - loss: 0.0609 - accuracy: 0.9962 - val_loss: 7.9011 - val_accuracy: 0.9062\n",
      "Epoch 10/30\n",
      "9/9 [==============================] - 1s 75ms/step - loss: 0.3719 - accuracy: 0.9847 - val_loss: 7.6185 - val_accuracy: 0.9141\n",
      "Epoch 11/30\n",
      "9/9 [==============================] - 1s 73ms/step - loss: 2.7733e-04 - accuracy: 1.0000 - val_loss: 7.5446 - val_accuracy: 0.9180\n",
      "Epoch 12/30\n",
      "9/9 [==============================] - 1s 74ms/step - loss: 0.0896 - accuracy: 0.9962 - val_loss: 7.4731 - val_accuracy: 0.9180\n",
      "Epoch 13/30\n",
      "9/9 [==============================] - 1s 75ms/step - loss: 0.0900 - accuracy: 0.9923 - val_loss: 8.6562 - val_accuracy: 0.9141\n",
      "Epoch 14/30\n",
      "9/9 [==============================] - 1s 75ms/step - loss: 0.9272 - accuracy: 0.9923 - val_loss: 8.9741 - val_accuracy: 0.9180\n",
      "Epoch 15/30\n",
      "9/9 [==============================] - 1s 79ms/step - loss: 0.7470 - accuracy: 0.9885 - val_loss: 9.8879 - val_accuracy: 0.9219\n",
      "Epoch 16/30\n",
      "9/9 [==============================] - 1s 75ms/step - loss: 0.1780 - accuracy: 0.9923 - val_loss: 9.6958 - val_accuracy: 0.9219\n",
      "Epoch 17/30\n",
      "9/9 [==============================] - 1s 71ms/step - loss: 1.5603 - accuracy: 0.9770 - val_loss: 8.7498 - val_accuracy: 0.9141\n",
      "Epoch 18/30\n",
      "9/9 [==============================] - 1s 74ms/step - loss: 1.7690e-06 - accuracy: 1.0000 - val_loss: 8.7453 - val_accuracy: 0.9102\n",
      "Epoch 19/30\n",
      "9/9 [==============================] - 1s 75ms/step - loss: 0.1177 - accuracy: 0.9923 - val_loss: 8.3765 - val_accuracy: 0.9102\n",
      "Epoch 20/30\n",
      "9/9 [==============================] - 1s 75ms/step - loss: 0.0135 - accuracy: 0.9962 - val_loss: 8.7552 - val_accuracy: 0.9180\n",
      "Epoch 21/30\n",
      "9/9 [==============================] - 1s 75ms/step - loss: 0.0196 - accuracy: 0.9923 - val_loss: 8.0248 - val_accuracy: 0.9141\n",
      "Epoch 22/30\n",
      "9/9 [==============================] - 1s 73ms/step - loss: 0.0000e+00 - accuracy: 1.0000 - val_loss: 8.0248 - val_accuracy: 0.9141\n",
      "Epoch 23/30\n",
      "9/9 [==============================] - 1s 74ms/step - loss: 0.1050 - accuracy: 0.9962 - val_loss: 8.4534 - val_accuracy: 0.9062\n",
      "Epoch 24/30\n",
      "9/9 [==============================] - 1s 73ms/step - loss: 0.0000e+00 - accuracy: 1.0000 - val_loss: 8.4534 - val_accuracy: 0.9062\n",
      "Epoch 25/30\n",
      "9/9 [==============================] - 1s 74ms/step - loss: 0.5681 - accuracy: 0.9923 - val_loss: 8.6868 - val_accuracy: 0.9023\n",
      "Epoch 26/30\n",
      "9/9 [==============================] - 1s 72ms/step - loss: 0.2083 - accuracy: 0.9923 - val_loss: 7.7912 - val_accuracy: 0.9141\n",
      "Epoch 27/30\n",
      "9/9 [==============================] - 1s 72ms/step - loss: 0.1855 - accuracy: 0.9962 - val_loss: 8.8709 - val_accuracy: 0.9219\n",
      "Epoch 28/30\n",
      "9/9 [==============================] - 1s 75ms/step - loss: 0.1317 - accuracy: 0.9962 - val_loss: 8.4921 - val_accuracy: 0.9297\n",
      "Epoch 29/30\n",
      "9/9 [==============================] - 1s 76ms/step - loss: 0.2314 - accuracy: 0.9923 - val_loss: 7.9451 - val_accuracy: 0.9297\n",
      "Epoch 30/30\n",
      "9/9 [==============================] - 1s 77ms/step - loss: 0.7821 - accuracy: 0.9885 - val_loss: 8.6248 - val_accuracy: 0.9102\n"
     ]
    }
   ],
   "source": [
    "model.compile(\n",
    "              loss=tf.keras.losses.SparseCategoricalCrossentropy(),\n",
    "              optimizer=keras.optimizers.RMSprop(learning_rate=1e-5),\n",
    "              metrics=[\"accuracy\"])\n",
    "\n",
    "callbacks = [\n",
    "    keras.callbacks.ModelCheckpoint(\n",
    "        filepath=\"fine_tuning.keras\",\n",
    "        save_best_only=True,\n",
    "        monitor=\"val_loss\")\n",
    "]\n",
    "history = model.fit(\n",
    "    train_dataset,\n",
    "    epochs=30,\n",
    "    validation_data=validation_dataset,\n",
    "    callbacks=callbacks)"
   ]
  },
  {
   "cell_type": "code",
   "execution_count": 47,
   "metadata": {
    "id": "e7Q0Rw2_xdS0"
   },
   "outputs": [
    {
     "data": {
      "image/png": "[encoded data removed]",
      "text/plain": [
       "<Figure size 640x480 with 1 Axes>"
      ]
     },
     "metadata": {},
     "output_type": "display_data"
    },
    {
     "data": {
      "image/png": "[encoded data removed]",
      "text/plain": [
       "<Figure size 640x480 with 1 Axes>"
      ]
     },
     "metadata": {},
     "output_type": "display_data"
    }
   ],
   "source": [
    "import matplotlib.pyplot as plt\n",
    "acc = history.history[\"accuracy\"]\n",
    "val_acc = history.history[\"val_accuracy\"]\n",
    "loss = history.history[\"loss\"]\n",
    "val_loss = history.history[\"val_loss\"]\n",
    "epochs = range(1, len(acc) + 1)\n",
    "plt.plot(epochs, acc, \"bo\", label=\"Training accuracy\")\n",
    "plt.plot(epochs, val_acc, \"b\", label=\"Validation accuracy\")\n",
    "plt.title(\"Training and validation accuracy\")\n",
    "plt.legend()\n",
    "plt.figure()\n",
    "plt.plot(epochs, loss, \"bo\", label=\"Training loss\")\n",
    "plt.plot(epochs, val_loss, \"b\", label=\"Validation loss\")\n",
    "plt.title(\"Training and validation loss\")\n",
    "plt.legend()\n",
    "plt.show()"
   ]
  },
  {
   "cell_type": "code",
   "execution_count": 48,
   "metadata": {
    "id": "EJAULEsiCTB0"
   },
   "outputs": [
    {
     "name": "stdout",
     "output_type": "stream",
     "text": [
      "9/9 [==============================] - 1s 19ms/step - loss: 13.0148 - accuracy: 0.8716\n",
      "Test accuracy: 0.872\n"
     ]
    }
   ],
   "source": [
    "model = keras.models.load_model(\"fine_tuning.keras\")\n",
    "test_loss, test_acc = model.evaluate(test_dataset)\n",
    "print(f\"Test accuracy: {test_acc:.3f}\")"
   ]
  },
  {
   "cell_type": "code",
   "execution_count": 1,
   "metadata": {},
   "outputs": [],
   "source": [
    "import tkinter as tk\n",
    "import cv2\n",
    "import os\n",
    "from PIL import Image, ImageTk\n",
    "from tkinter import ttk\n",
    "from datetime import datetime\n",
    "from tensorflow import keras\n",
    "import numpy as np\n",
    "import csv\n",
    "\n",
    "#Import the model\n",
    "test_model2 = keras.models.load_model(\"fine_tuning.keras\")\n",
    "\n",
    "prev_name = []\n",
    "predicted_class_labels = []\n",
    "\n",
    "# Create the main window\n",
    "root = tk.Tk()\n",
    "root.title(\"Attendance Registration System\")\n",
    "root.geometry(\"900x760\")\n",
    "\n",
    "# Create a frame for the title\n",
    "title_frame = tk.Frame(root)\n",
    "title_frame.pack(fill=\"x\")\n",
    "\n",
    "# Add the title label\n",
    "title_label = tk.Label(title_frame, text=\"Attendance Registration System\", font=(\"Helvetica\", 20))\n",
    "title_label.pack(pady=10)\n",
    "\n",
    "# Create a frame for the camera feed and table\n",
    "frame = tk.Frame(root)\n",
    "frame.pack(fill=\"both\", expand=True)\n",
    "\n",
    "# Create a label for the camera feed\n",
    "camera_label = tk.Label(frame)\n",
    "camera_label.grid(row=0, column=0, padx=10, pady=10, sticky=\"nw\")\n",
    "\n",
    "# Create a custom style for the table headings\n",
    "style = ttk.Style()\n",
    "style.configure(\"Custom.Treeview.Heading\", font=(\"Arial\", 12, \"bold\"))\n",
    "\n",
    "table = ttk.Treeview(frame, columns=(\"Student\", \"Time\"), show=\"headings\", style=\"Custom.Treeview\")\n",
    "table.column(\"Student\", width=50, anchor=\"center\")\n",
    "table.column(\"Time\", width=50, anchor=\"center\")\n",
    "table.heading(\"Student\", text=\"Student\")\n",
    "table.heading(\"Time\", text=\"Time\")\n",
    "table.grid(row=0, column=1, padx=10, pady=10, sticky=\"nsew\")\n",
    "\n",
    "frame.grid_rowconfigure(0, weight=1)\n",
    "frame.grid_columnconfigure(1, weight=1)\n",
    "\n",
    "students_frame = tk.Frame(root)\n",
    "students_frame.pack(pady=10)\n",
    "\n",
    "#Function for registering students\n",
    "def add_student(student):\n",
    "    current_time = datetime.now().strftime(\"%H:%M\")  # Get the current time\n",
    "    table.insert(\"\", \"end\", values=(student, current_time))    \n",
    "\n",
    "\n",
    "# Function to export table data to a CSV file\n",
    "def export_table():\n",
    "    #Check if the table is empty\n",
    "    if len(table.get_children()) == 0:\n",
    "        error.config(text='Table is empty. No data to export.')\n",
    "        return\n",
    "    \n",
    "    now = datetime.now()\n",
    "    date_string = now.strftime(\"%d-%m-%Y\")\n",
    "    time_string = now.strftime(\"%H-%M\")\n",
    "    filename = f\"attendance_on_{date_string}_at_{time_string}.csv\"\n",
    "    with open(filename, \"w\", newline=\"\") as file:\n",
    "        writer = csv.writer(file)\n",
    "        writer.writerow([\"Student\", \"Time\"])  # Write the table headings\n",
    "        for item in table.get_children():\n",
    "            row = table.item(item)[\"values\"]\n",
    "            writer.writerow(row)\n",
    "    error.config(text='CSV file exported! File name: '+filename)\n",
    "\n",
    "\n",
    "    \n",
    "#Click listener for the submit button\n",
    "def submit():\n",
    "    for label in predicted_class_labels:\n",
    "        #Check if student is not registered\n",
    "        if label not in prev_name:\n",
    "                prev_name.append(label)\n",
    "                add_student(label)\n",
    "                error.config(text='')\n",
    "        #If student is registered display an error message\n",
    "        else:\n",
    "            error.config(text='Student already registered!')\n",
    "\n",
    "#Create submit button\n",
    "submit_button = tk.Button(students_frame, text=\"Register Student\", command=submit, font=(\"Arial\", 14))\n",
    "submit_button.pack(pady=10)\n",
    "\n",
    "# Create export button\n",
    "export_button = tk.Button(students_frame, text=\"Export Table\", command=export_table, font=(\"Arial\", 14))\n",
    "export_button.pack(pady=10)\n",
    "\n",
    "#Create error text label\n",
    "error = tk.Label(students_frame, text=\"\", font=(\"Helvetica\", 16), fg=\"red\")\n",
    "error.pack(pady=10)\n",
    "\n",
    "#Function for updating the camera feed\n",
    "def update_camera_feed():\n",
    "    global prev_name, predicted_class_label\n",
    "    ret, frame = cap.read()\n",
    "    if ret:\n",
    "        image = cv2.cvtColor(frame, cv2.COLOR_BGR2RGB)\n",
    "        \n",
    "        #Detecting and storing the faces in the faces[] array\n",
    "        face_cascade = cv2.CascadeClassifier(cv2.data.haarcascades + \"haarcascade_frontalface_default.xml\")\n",
    "        gray = cv2.cvtColor(frame, cv2.COLOR_BGR2GRAY)\n",
    "        faces = face_cascade.detectMultiScale(gray, scaleFactor=1.3, minNeighbors=5, minSize=(40, 40))\n",
    "        predicted_class_labels.clear()\n",
    "\n",
    "        #Looping through each face and detecting \n",
    "        for (x, y, w, h) in faces:\n",
    "            cv2.rectangle(image, (x, y), (x + w, y + h), (0, 255, 0), 2)\n",
    "            \n",
    "            #Get the name of the classes and store them in an array\n",
    "            train_directory = r\"E:\\Flamur\\data\\train\"\n",
    "            class_names = sorted(os.listdir(train_directory))\n",
    "            \n",
    "            #Modify the frame to meet the requirements of the model\n",
    "            resized_face = cv2.resize(gray[y:y+h, x:x+w], (180, 180))\n",
    "            resized_face_rgb = cv2.cvtColor(resized_face, cv2.COLOR_GRAY2RGB)\n",
    "            resized_face_rgb = resized_face_rgb.reshape((-1, 180, 180, 3))\n",
    "            \n",
    "            #Predict using the modified image\n",
    "            prediction = test_model2.predict(resized_face_rgb)\n",
    "            predicted_class_index = np.argmax(prediction)\n",
    "            \n",
    "            #Add the name of the class with the highest prediction to an array\n",
    "            predicted_class_labels.append(class_names[predicted_class_index])\n",
    "\n",
    "            #Display the name of the class with the highest prediction\n",
    "            cv2.putText(image, class_names[predicted_class_index], (x, y - 10), cv2.FONT_HERSHEY_SIMPLEX, 0.9, (0, 255, 0), 2)\n",
    "        \n",
    "        image = Image.fromarray(image)\n",
    "        image = ImageTk.PhotoImage(image)\n",
    "        camera_label.config(image=image)\n",
    "        camera_label.image = image\n",
    "\n",
    "    camera_label.after(10, update_camera_feed)\n",
    "\n",
    "cap = cv2.VideoCapture(0)\n",
    "\n",
    "update_camera_feed()\n",
    "\n",
    "root.mainloop()"
   ]
  },
  {
   "cell_type": "code",
   "execution_count": 7,
   "metadata": {},
   "outputs": [],
   "source": [
    "cap.release()"
   ]
  },
  {
   "cell_type": "code",
   "execution_count": null,
   "metadata": {},
   "outputs": [],
   "source": []
  }
 ],
 "metadata": {
  "accelerator": "GPU",
  "colab": {
   "collapsed_sections": [],
   "name": "DL7_3_pretrain.ipynb",
   "provenance": []
  },
  "kernelspec": {
   "display_name": "Python 3 (ipykernel)",
   "language": "python",
   "name": "python3"
  },
  "language_info": {
   "codemirror_mode": {
    "name": "ipython",
    "version": 3
   },
   "file_extension": ".py",
   "mimetype": "text/x-python",
   "name": "python",
   "nbconvert_exporter": "python",
   "pygments_lexer": "ipython3",
   "version": "3.9.16"
  }
 },
 "nbformat": 4,
 "nbformat_minor": 4
}
